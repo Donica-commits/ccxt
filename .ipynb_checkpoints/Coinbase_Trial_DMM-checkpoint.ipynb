{
 "cells": [
  {
   "cell_type": "code",
   "execution_count": 1,
   "metadata": {},
   "outputs": [
    {
     "name": "stdout",
     "output_type": "stream",
     "text": [
      "Requirement already satisfied: ccxt in c:\\users\\donica\\anaconda3\\envs\\learn-env\\lib\\site-packages (1.61.88)\n",
      "Requirement already satisfied: aiodns>=1.1.1; python_version >= \"3.5.2\" in c:\\users\\donica\\anaconda3\\envs\\learn-env\\lib\\site-packages (from ccxt) (3.0.0)\n",
      "Requirement already satisfied: requests>=2.18.4 in c:\\users\\donica\\anaconda3\\envs\\learn-env\\lib\\site-packages (from ccxt) (2.24.0)\n",
      "Requirement already satisfied: cryptography>=2.6.1 in c:\\users\\donica\\anaconda3\\envs\\learn-env\\lib\\site-packages (from ccxt) (3.1.1)\n",
      "Requirement already satisfied: yarl==1.6.3; python_version >= \"3.5.2\" in c:\\users\\donica\\anaconda3\\envs\\learn-env\\lib\\site-packages (from ccxt) (1.6.3)\n",
      "Requirement already satisfied: aiohttp>=3.8; python_version >= \"3.5.2\" in c:\\users\\donica\\anaconda3\\envs\\learn-env\\lib\\site-packages (from ccxt) (3.8.1)\n",
      "Requirement already satisfied: certifi>=2018.1.18 in c:\\users\\donica\\anaconda3\\envs\\learn-env\\lib\\site-packages (from ccxt) (2020.6.20)\n",
      "Requirement already satisfied: setuptools>=38.5.1 in c:\\users\\donica\\anaconda3\\envs\\learn-env\\lib\\site-packages (from ccxt) (50.3.0.post20201103)\n",
      "Requirement already satisfied: pycares>=4.0.0 in c:\\users\\donica\\anaconda3\\envs\\learn-env\\lib\\site-packages (from aiodns>=1.1.1; python_version >= \"3.5.2\"->ccxt) (4.1.2)\n",
      "Requirement already satisfied: idna<3,>=2.5 in c:\\users\\donica\\anaconda3\\envs\\learn-env\\lib\\site-packages (from requests>=2.18.4->ccxt) (2.10)\n",
      "Requirement already satisfied: urllib3!=1.25.0,!=1.25.1,<1.26,>=1.21.1 in c:\\users\\donica\\anaconda3\\envs\\learn-env\\lib\\site-packages (from requests>=2.18.4->ccxt) (1.25.10)\n",
      "Requirement already satisfied: chardet<4,>=3.0.2 in c:\\users\\donica\\anaconda3\\envs\\learn-env\\lib\\site-packages (from requests>=2.18.4->ccxt) (3.0.4)\n",
      "Requirement already satisfied: cffi!=1.11.3,>=1.8 in c:\\users\\donica\\anaconda3\\envs\\learn-env\\lib\\site-packages (from cryptography>=2.6.1->ccxt) (1.14.3)\n",
      "Requirement already satisfied: six>=1.4.1 in c:\\users\\donica\\anaconda3\\envs\\learn-env\\lib\\site-packages (from cryptography>=2.6.1->ccxt) (1.15.0)\n",
      "Requirement already satisfied: multidict>=4.0 in c:\\users\\donica\\anaconda3\\envs\\learn-env\\lib\\site-packages (from yarl==1.6.3; python_version >= \"3.5.2\"->ccxt) (4.7.5)\n",
      "Requirement already satisfied: frozenlist>=1.1.1 in c:\\users\\donica\\anaconda3\\envs\\learn-env\\lib\\site-packages (from aiohttp>=3.8; python_version >= \"3.5.2\"->ccxt) (1.2.0)\n",
      "Requirement already satisfied: aiosignal>=1.1.2 in c:\\users\\donica\\anaconda3\\envs\\learn-env\\lib\\site-packages (from aiohttp>=3.8; python_version >= \"3.5.2\"->ccxt) (1.2.0)\n",
      "Requirement already satisfied: attrs>=17.3.0 in c:\\users\\donica\\anaconda3\\envs\\learn-env\\lib\\site-packages (from aiohttp>=3.8; python_version >= \"3.5.2\"->ccxt) (20.2.0)\n",
      "Requirement already satisfied: charset-normalizer<3.0,>=2.0 in c:\\users\\donica\\anaconda3\\envs\\learn-env\\lib\\site-packages (from aiohttp>=3.8; python_version >= \"3.5.2\"->ccxt) (2.0.7)\n",
      "Requirement already satisfied: async-timeout<5.0,>=4.0.0a3 in c:\\users\\donica\\anaconda3\\envs\\learn-env\\lib\\site-packages (from aiohttp>=3.8; python_version >= \"3.5.2\"->ccxt) (4.0.1)\n",
      "Requirement already satisfied: pycparser in c:\\users\\donica\\anaconda3\\envs\\learn-env\\lib\\site-packages (from cffi!=1.11.3,>=1.8->cryptography>=2.6.1->ccxt) (2.20)\n",
      "Requirement already satisfied: typing-extensions>=3.6.5 in c:\\users\\donica\\anaconda3\\envs\\learn-env\\lib\\site-packages (from async-timeout<5.0,>=4.0.0a3->aiohttp>=3.8; python_version >= \"3.5.2\"->ccxt) (4.0.0)\n",
      "Note: you may need to restart the kernel to use updated packages.\n"
     ]
    }
   ],
   "source": [
    "pip install ccxt"
   ]
  },
  {
   "cell_type": "code",
   "execution_count": 1,
   "metadata": {},
   "outputs": [
    {
     "name": "stdout",
     "output_type": "stream",
     "text": [
      "['aax', 'aofex', 'ascendex', 'bequant', 'bibox', 'bigone', 'binance', 'binancecoinm', 'binanceus', 'binanceusdm', 'bit2c', 'bitbank', 'bitbay', 'bitbns', 'bitcoincom', 'bitfinex', 'bitfinex2', 'bitflyer', 'bitforex', 'bitget', 'bithumb', 'bitmart', 'bitmex', 'bitpanda', 'bitrue', 'bitso', 'bitstamp', 'bitstamp1', 'bittrex', 'bitvavo', 'bl3p', 'btcalpha', 'btcbox', 'btcmarkets', 'btctradeua', 'btcturk', 'buda', 'bw', 'bybit', 'bytetrade', 'cdax', 'cex', 'coinbase', 'coinbaseprime', 'coinbasepro', 'coincheck', 'coinex', 'coinfalcon', 'coinmarketcap', 'coinmate', 'coinone', 'coinspot', 'crex24', 'currencycom', 'delta', 'deribit', 'digifinex', 'eqonex', 'equos', 'exmo', 'flowbtc', 'ftx', 'ftxus', 'gateio', 'gemini', 'hitbtc', 'hitbtc3', 'hollaex', 'huobi', 'huobijp', 'huobipro', 'idex', 'independentreserve', 'indodax', 'itbit', 'kraken', 'kucoin', 'kuna', 'latoken', 'latoken1', 'lbank', 'liquid', 'luno', 'lykke', 'mercado', 'mexc', 'ndax', 'novadax', 'oceanex', 'okcoin', 'okex', 'okex3', 'okex5', 'paymium', 'phemex', 'poloniex', 'probit', 'qtrade', 'ripio', 'stex', 'therock', 'tidebit', 'tidex', 'timex', 'upbit', 'vcc', 'wavesexchange', 'whitebit', 'xena', 'yobit', 'zaif', 'zb']\n"
     ]
    }
   ],
   "source": [
    "import ccxt\n",
    "print(ccxt.exchanges)\n"
   ]
  },
  {
   "cell_type": "code",
   "execution_count": null,
   "metadata": {},
   "outputs": [],
   "source": []
  },
  {
   "cell_type": "code",
   "execution_count": null,
   "metadata": {},
   "outputs": [],
   "source": []
  }
 ],
 "metadata": {
  "kernelspec": {
   "display_name": "Python(learn-env)",
   "language": "python",
   "name": "learn-env"
  },
  "language_info": {
   "codemirror_mode": {
    "name": "ipython",
    "version": 3
   },
   "file_extension": ".py",
   "mimetype": "text/x-python",
   "name": "python",
   "nbconvert_exporter": "python",
   "pygments_lexer": "ipython3",
   "version": "3.8.5"
  }
 },
 "nbformat": 4,
 "nbformat_minor": 4
}
